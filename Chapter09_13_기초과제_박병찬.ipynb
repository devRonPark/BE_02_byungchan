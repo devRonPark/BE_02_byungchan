{
  "nbformat": 4,
  "nbformat_minor": 0,
  "metadata": {
    "colab": {
      "provenance": [],
      "include_colab_link": true
    },
    "kernelspec": {
      "name": "python3",
      "display_name": "Python 3"
    },
    "language_info": {
      "name": "python"
    }
  },
  "cells": [
    {
      "cell_type": "markdown",
      "metadata": {
        "id": "view-in-github",
        "colab_type": "text"
      },
      "source": [
        "<a href=\"https://colab.research.google.com/github/devRonPark/BE_02_byungchan/blob/main/Chapter09_13_%EA%B8%B0%EC%B4%88%EA%B3%BC%EC%A0%9C_%EB%B0%95%EB%B3%91%EC%B0%AC.ipynb\" target=\"_parent\"><img src=\"https://colab.research.google.com/assets/colab-badge.svg\" alt=\"Open In Colab\"/></a>"
      ]
    },
    {
      "cell_type": "markdown",
      "source": [
        "안녕하세요. 수강생 여러분~! Chapter10 ~ 13 수업은 잘 들으셨나요?\n",
        "\n",
        "Chapter10 ~ 13의 수업 내용을 바탕으로 아래 문제를 풀어주시면 됩니다.\n",
        "\n",
        "####**제출 방법 안내**\n",
        "상단 파일명(Chapter03_기초과제.ipynb)을 Chapter01_기초과제_000(본인이름).ipynb로 변경후 아래 링크로 접속 후 본인 이름의 폴더에 제출해주면 됩니다.\n",
        "\n",
        "제출 링크 :\n",
        "\n",
        "####**답변 입력 방법 안내**\n",
        "\"답변\"이라고 적힌란을 마우스로 더블 클릭하시면 글을 작성할 수 있습니다.\n",
        "\n",
        "텍스트에 글을 더 잘 작성하기 위해서는 마크다운 언어를 공부하시면 됩니다.\n",
        "\n",
        "**(구글 검색 창에 \"코랩 마크다운\" 검색)**"
      ],
      "metadata": {
        "id": "fD4Qab2qYgOm"
      }
    },
    {
      "cell_type": "markdown",
      "source": [
        "##문제1\n",
        "movie_rank 리스트에는 아래와 같이 네 개의 영화 제목이 바인딩되어 있다. \"비밀\"을 \"나폴레옹\"과 \"괴물\" 사이에 추가하라.\n",
        "\n",
        "\n",
        "\n",
        "```\n",
        "movie = ['서울의 봄', '나폴레옹', '괴물', '베트맨']\n",
        "```\n",
        "\n"
      ],
      "metadata": {
        "id": "swqdcIl8Yn-c"
      }
    },
    {
      "cell_type": "code",
      "source": [
        "movie = ['서울의 봄', '나폴레옹', '괴물', '베트맨']\n",
        "\n",
        "movie.insert(2, \"비밀\")\n",
        "print(movie)"
      ],
      "metadata": {
        "id": "vjUhNFdBYo2n",
        "colab": {
          "base_uri": "https://localhost:8080/"
        },
        "outputId": "ad4adcf6-8b14-443c-b392-591630775e2e"
      },
      "execution_count": 2,
      "outputs": [
        {
          "output_type": "stream",
          "name": "stdout",
          "text": [
            "['서울의 봄', '나폴레옹', '비밀', '괴물', '베트맨']\n"
          ]
        }
      ]
    },
    {
      "cell_type": "markdown",
      "source": [
        "##문제2\n",
        "movie_rank 리스트에서 '베트맨'를 삭제하라.\n",
        "\n",
        "```\n",
        "movie = ['서울의 봄', '나폴레옹', '비밀', '괴물', '베트맨']\n",
        "```\n",
        "\n"
      ],
      "metadata": {
        "id": "KZBNuM5MYpZR"
      }
    },
    {
      "cell_type": "code",
      "source": [
        "movie = ['서울의 봄', '나폴레옹', '비밀', '괴물', '베트맨']\n",
        "movie.remove(\"베트맨\")\n",
        "print(movie)"
      ],
      "metadata": {
        "id": "cPezrT7cYreh",
        "colab": {
          "base_uri": "https://localhost:8080/"
        },
        "outputId": "cafd25d2-81e0-460b-bb3e-4ae4c1ab40cc"
      },
      "execution_count": 3,
      "outputs": [
        {
          "output_type": "stream",
          "name": "stdout",
          "text": [
            "['서울의 봄', '나폴레옹', '비밀', '괴물']\n"
          ]
        }
      ]
    },
    {
      "cell_type": "markdown",
      "source": [
        "##문제3\n",
        "\n",
        "[언어1]과 [언어2] 리스트가 있을 때 언어1과 언어2의 원소를 모두 갖고 있는 [언어모음]이라는 list를 만들어주세요\n",
        "\n",
        "lang1 = [\"C\", \"C++\", \"JAVA\"]  \n",
        "lang2 = [\"Python\", \"Go\", \"C#\"]  \n",
        "\n",
        "실행 예:\n",
        "언어들\n",
        "['C', 'C++', 'JAVA', 'Python', 'Go', 'C#']"
      ],
      "metadata": {
        "id": "i8EJYPY0YsAe"
      }
    },
    {
      "cell_type": "code",
      "source": [
        "lang1 = [\"C\", \"C++\", \"JAVA\"]\n",
        "lang2 = [\"Python\", \"Go\", \"C#\"]\n",
        "언어들 = lang1 + lang2\n",
        "print(\"언어들\", 언어들)"
      ],
      "metadata": {
        "id": "H0-yRJXZYs0b",
        "colab": {
          "base_uri": "https://localhost:8080/"
        },
        "outputId": "c9c12bd0-3eec-4b89-c5f9-1c580ed5fbc1"
      },
      "execution_count": 5,
      "outputs": [
        {
          "output_type": "stream",
          "name": "stdout",
          "text": [
            "언어들 ['C', 'C++', 'JAVA', 'Python', 'Go', 'C#']\n"
          ]
        }
      ]
    },
    {
      "cell_type": "markdown",
      "source": [
        "##문제4\n",
        "다음 리스트에서 최댓값과 최솟값을 출력해주세요.\n",
        "\n",
        "```\n",
        "nums = [1, 2, 3, 4, 5, 6, 7, 9, 10]\n",
        "```\n",
        "\n"
      ],
      "metadata": {
        "id": "5VFysaYRwT69"
      }
    },
    {
      "cell_type": "code",
      "source": [
        "nums = [1, 2, 3, 4, 5, 6, 7, 9, 10]\n",
        "max_num = max(nums)\n",
        "min_num = min(nums)\n",
        "\n",
        "print(max_num, min_num)"
      ],
      "metadata": {
        "colab": {
          "base_uri": "https://localhost:8080/"
        },
        "id": "9VtAai7r-jjF",
        "outputId": "e8b30bd0-b3c0-4824-dcbe-af37fbf04133"
      },
      "execution_count": 7,
      "outputs": [
        {
          "output_type": "stream",
          "name": "stdout",
          "text": [
            "10 1\n"
          ]
        }
      ]
    },
    {
      "cell_type": "markdown",
      "source": [
        "##문제5\n",
        "\n",
        "다음 리스트에 저장된 데이터의 개수를 화면에 구해주세요\n",
        "\n",
        "cook = [\"피자\", \"김밥\", \"만두\", \"양념치킨\", \"족발\", \"피자\", \"김치만두\", \"쫄면\"]"
      ],
      "metadata": {
        "id": "5_IA50IQE2AM"
      }
    },
    {
      "cell_type": "code",
      "source": [
        "cook = [\"피자\", \"김밥\", \"만두\", \"양념치킨\", \"족발\", \"피자\", \"김치만두\", \"쫄면\"]\n",
        "print(len(cook))"
      ],
      "metadata": {
        "id": "iRDvWnF8wTXa",
        "colab": {
          "base_uri": "https://localhost:8080/"
        },
        "outputId": "a53bc571-1bdd-4491-e13e-31e3edb34e44"
      },
      "execution_count": 8,
      "outputs": [
        {
          "output_type": "stream",
          "name": "stdout",
          "text": [
            "8\n"
          ]
        }
      ]
    },
    {
      "cell_type": "markdown",
      "source": [
        "##문제6\n",
        "\n",
        "다음 리스트의 평균을 출력해주세요\n",
        "\n",
        "nums = [1, 2, 3, 4, 5]"
      ],
      "metadata": {
        "id": "7DVH0FOBE4pt"
      }
    },
    {
      "cell_type": "code",
      "source": [
        "nums = [1, 2, 3, 4, 5]\n",
        "average = sum(nums) / len(nums)\n",
        "print(average)"
      ],
      "metadata": {
        "id": "NXmaxplTE4QY",
        "colab": {
          "base_uri": "https://localhost:8080/"
        },
        "outputId": "737f29b5-ae67-473c-982e-5664f3360a1e"
      },
      "execution_count": 9,
      "outputs": [
        {
          "output_type": "stream",
          "name": "stdout",
          "text": [
            "3.0\n"
          ]
        }
      ]
    },
    {
      "cell_type": "markdown",
      "source": [
        "## 문제7\n",
        "\n",
        "price 변수에는 날짜와 종가 정보가 저장돼 있습니다.\n",
        "날짜 정보를 제외하고 가격 정보만을 출력해주세요\n",
        "\n",
        "price = ['20180728', 100, 130, 140, 150, 160, 170]\n",
        "\n",
        "출력:\n",
        "[100, 130, 140, 150, 160, 170]"
      ],
      "metadata": {
        "id": "Cp7IpuJBFcq2"
      }
    },
    {
      "cell_type": "code",
      "source": [
        "price = ['20180728', 100, 130, 140, 150, 160, 170]\n",
        "\n",
        "print(price[1:])"
      ],
      "metadata": {
        "id": "BpMb0bHPFdKF",
        "colab": {
          "base_uri": "https://localhost:8080/"
        },
        "outputId": "627398fd-390f-4a45-c87f-8622de1f8825"
      },
      "execution_count": 10,
      "outputs": [
        {
          "output_type": "stream",
          "name": "stdout",
          "text": [
            "[100, 130, 140, 150, 160, 170]\n"
          ]
        }
      ]
    },
    {
      "cell_type": "markdown",
      "source": [
        "## 문제8\n",
        "\n",
        "아래 코드 실행 시 오류가 발생한 사유를 설명해주세요\n",
        "\n",
        "t = (1, 2, 3)  \n",
        "t[0] = 'a'  \n",
        "Traceback (most recent call last):  \n",
        "   File \"<pyshell#46>\", line 1, in <module>  \n",
        "      t[0] = 'a'   \n",
        "TypeError: 'tuple' object does not support item assignment  "
      ],
      "metadata": {
        "id": "arxKtWk9Fy-9"
      }
    },
    {
      "cell_type": "markdown",
      "source": [
        "tuple 은 변경 불가능한 속성(immutable)이기 때문에 값 변경이 불가능하기 때문이다."
      ],
      "metadata": {
        "id": "_2U4Hqf_Gf9v"
      }
    },
    {
      "cell_type": "markdown",
      "source": [
        "## 문제9\n",
        "다음 딕셔너리를 사용하여 메로나 가격을 출력하라.\n",
        "\n",
        "ice = {'메로나': 1000,\n",
        "       '폴로포': 1200,\n",
        "       '빵빠레': 1800,\n",
        "       '죠스바': 1200,\n",
        "       '월드콘': 1500}\n",
        "\n",
        "실행 예:\n",
        "메로나 가격: 1000"
      ],
      "metadata": {
        "id": "1DwclZivGe72"
      }
    },
    {
      "cell_type": "code",
      "source": [
        "ice = {'메로나': 1000, '폴로포': 1200, '빵빠레': 1800, '죠스바': 1200, '월드콘': 1500}\n",
        "\n",
        "print(f\"메로나 가격: {ice['메로나']}\")"
      ],
      "metadata": {
        "id": "jADTPFzOHcKk",
        "colab": {
          "base_uri": "https://localhost:8080/"
        },
        "outputId": "0dec3b2d-eb49-486e-c0da-de2edf5df83b"
      },
      "execution_count": 11,
      "outputs": [
        {
          "output_type": "stream",
          "name": "stdout",
          "text": [
            "메로나 가격: 1000\n"
          ]
        }
      ]
    },
    {
      "cell_type": "markdown",
      "source": [
        "##문제10\n",
        "\n",
        "다음 딕셔너리에서 메로나의 가격을 1300으로 수정하라.\n",
        "\n",
        "ice = {'메로나': 1000,\n",
        "       '폴로포': 1200,\n",
        "       '빵빠레': 1800,\n",
        "       '죠스바': 1200,\n",
        "       '월드콘': 1500}"
      ],
      "metadata": {
        "id": "mBs2AaqcJAXN"
      }
    },
    {
      "cell_type": "code",
      "source": [
        "ice = {'메로나': 1000, '폴로포': 1200, '빵빠레': 1800, '죠스바': 1200, '월드콘': 1500}\n",
        "\n",
        "# ice['메로나'] = 1300\n",
        "ice.update({'메로나': 1300})\n",
        "print(ice)"
      ],
      "metadata": {
        "id": "C2RyUgoTJKsF",
        "colab": {
          "base_uri": "https://localhost:8080/"
        },
        "outputId": "2b868062-a749-4156-e886-359db057780b"
      },
      "execution_count": 14,
      "outputs": [
        {
          "output_type": "stream",
          "name": "stdout",
          "text": [
            "{'메로나': 1300, '폴로포': 1200, '빵빠레': 1800, '죠스바': 1200, '월드콘': 1500}\n"
          ]
        }
      ]
    },
    {
      "cell_type": "markdown",
      "source": [
        "## 문제11\n",
        "아래 순서대로 주어진 수강생 이름과 등급을 하나의 딕셔너리로 만드는 코드를 작성해주세요\n",
        "\n",
        "\n",
        "이름 : 나이썬, 김자바, 김씨, 박씨샵  \n",
        "등급 :   B       B      A      C\n"
      ],
      "metadata": {
        "id": "_ZdcVEtTJKS1"
      }
    },
    {
      "cell_type": "code",
      "source": [
        "이름 = [\"나이썬\", \"감자바\", \"김씨\", \"박씨샵\"]\n",
        "등급 = [\"B\", \"B\", \"A\", \"C\"]\n",
        "\n",
        "딕셔너리 = dict(zip(이름, 등급))\n",
        "print(딕셔너리)"
      ],
      "metadata": {
        "id": "7RyqlYwpJOp7",
        "colab": {
          "base_uri": "https://localhost:8080/"
        },
        "outputId": "5a72669b-c31e-442f-e47c-3344ecc86b0b"
      },
      "execution_count": 15,
      "outputs": [
        {
          "output_type": "stream",
          "name": "stdout",
          "text": [
            "{'나이썬': 'B', '감자바': 'B', '김씨': 'A', '박씨샵': 'C'}\n"
          ]
        }
      ]
    },
    {
      "cell_type": "markdown",
      "source": [
        "## 문제12\n",
        "아래 ice 딕셔너리에 데이터를 추가 후 출력해주세\n",
        "\n",
        "ice = {\"메로나\": [300, 20],  \n",
        "              \"비비빅\": [400, 3],  \n",
        "              \"죠스바\": [250, 100]}  \n",
        "\n",
        "\n",
        "추가해야하는 데이터 : 이름 : 보석바, 가격:650, 재고:10"
      ],
      "metadata": {
        "id": "yzi6f2-YKsk4"
      }
    },
    {
      "cell_type": "code",
      "source": [
        "ice = {\"메로나\": [300, 20], \"비비빅\": [400, 3], \"죠스바\": [250, 100]}\n",
        "\n",
        "ice.update({\"보석바\": [650, 10]})\n",
        "print(ice)"
      ],
      "metadata": {
        "colab": {
          "base_uri": "https://localhost:8080/"
        },
        "id": "eXOy7W6ESMpD",
        "outputId": "0186b934-27d6-480e-dec9-50759dfcd454"
      },
      "execution_count": 17,
      "outputs": [
        {
          "output_type": "stream",
          "name": "stdout",
          "text": [
            "{'메로나': [300, 20], '비비빅': [400, 3], '죠스바': [250, 100], '보석바': [650, 10]}\n"
          ]
        }
      ]
    },
    {
      "cell_type": "markdown",
      "source": [
        "##문제13\n",
        "\n",
        "아래 딕셔너리에서 key만 출력해주세요  \n",
        "\n",
        "ice = {'메로나': 1000, '폴로포': 1200, '빵빠레': 1800, '죠스바': 1200, '월드콘': 1500}\n"
      ],
      "metadata": {
        "id": "RQJC80PBLWGt"
      }
    },
    {
      "cell_type": "code",
      "source": [
        "ice = {'메로나': 1000, '폴로포': 1200, '빵빠레': 1800, '죠스바': 1200, '월드콘': 1500}\n",
        "\n",
        "print(list(ice.keys()))"
      ],
      "metadata": {
        "id": "m5m-a09iLVbO",
        "colab": {
          "base_uri": "https://localhost:8080/"
        },
        "outputId": "4985e3b0-dcb4-4f6f-dd50-eaa17ae9abab"
      },
      "execution_count": 16,
      "outputs": [
        {
          "output_type": "stream",
          "name": "stdout",
          "text": [
            "['메로나', '폴로포', '빵빠레', '죠스바', '월드콘']\n"
          ]
        }
      ]
    }
  ]
}